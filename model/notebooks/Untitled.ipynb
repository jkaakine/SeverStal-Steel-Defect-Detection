{
 "cells": [
  {
   "cell_type": "code",
   "execution_count": 76,
   "metadata": {},
   "outputs": [],
   "source": [
    "import pandas as pd\n",
    "import numpy as np\n",
    "import matplotlib\n",
    "import matplotlib.pyplot as plt\n",
    "import glob\n",
    "import seaborn as sns\n",
    "%matplotlib inline\n",
    "from os import listdir\n",
    "\n",
    "import keras\n",
    "from sklearn.model_selection import train_test_split"
   ]
  },
  {
   "cell_type": "markdown",
   "metadata": {},
   "source": [
    "## Explore\n",
    "\n",
    "---"
   ]
  },
  {
   "cell_type": "code",
   "execution_count": 2,
   "metadata": {},
   "outputs": [],
   "source": [
    "data_dir = r\"../../data/\"\n",
    "image_dir = r\"../../data/train_images/\""
   ]
  },
  {
   "cell_type": "code",
   "execution_count": 3,
   "metadata": {},
   "outputs": [
    {
     "data": {
      "text/html": [
       "<div>\n",
       "<style scoped>\n",
       "    .dataframe tbody tr th:only-of-type {\n",
       "        vertical-align: middle;\n",
       "    }\n",
       "\n",
       "    .dataframe tbody tr th {\n",
       "        vertical-align: top;\n",
       "    }\n",
       "\n",
       "    .dataframe thead th {\n",
       "        text-align: right;\n",
       "    }\n",
       "</style>\n",
       "<table border=\"1\" class=\"dataframe\">\n",
       "  <thead>\n",
       "    <tr style=\"text-align: right;\">\n",
       "      <th></th>\n",
       "      <th>ImageId</th>\n",
       "      <th>ClassId</th>\n",
       "      <th>EncodedPixels</th>\n",
       "    </tr>\n",
       "  </thead>\n",
       "  <tbody>\n",
       "    <tr>\n",
       "      <th>0</th>\n",
       "      <td>0002cc93b.jpg</td>\n",
       "      <td>1</td>\n",
       "      <td>29102 12 29346 24 29602 24 29858 24 30114 24 3...</td>\n",
       "    </tr>\n",
       "    <tr>\n",
       "      <th>1</th>\n",
       "      <td>0007a71bf.jpg</td>\n",
       "      <td>3</td>\n",
       "      <td>18661 28 18863 82 19091 110 19347 110 19603 11...</td>\n",
       "    </tr>\n",
       "    <tr>\n",
       "      <th>2</th>\n",
       "      <td>000a4bcdd.jpg</td>\n",
       "      <td>1</td>\n",
       "      <td>37607 3 37858 8 38108 14 38359 20 38610 25 388...</td>\n",
       "    </tr>\n",
       "    <tr>\n",
       "      <th>3</th>\n",
       "      <td>000f6bf48.jpg</td>\n",
       "      <td>4</td>\n",
       "      <td>131973 1 132228 4 132483 6 132738 8 132993 11 ...</td>\n",
       "    </tr>\n",
       "    <tr>\n",
       "      <th>4</th>\n",
       "      <td>0014fce06.jpg</td>\n",
       "      <td>3</td>\n",
       "      <td>229501 11 229741 33 229981 55 230221 77 230468...</td>\n",
       "    </tr>\n",
       "  </tbody>\n",
       "</table>\n",
       "</div>"
      ],
      "text/plain": [
       "         ImageId  ClassId                                      EncodedPixels\n",
       "0  0002cc93b.jpg        1  29102 12 29346 24 29602 24 29858 24 30114 24 3...\n",
       "1  0007a71bf.jpg        3  18661 28 18863 82 19091 110 19347 110 19603 11...\n",
       "2  000a4bcdd.jpg        1  37607 3 37858 8 38108 14 38359 20 38610 25 388...\n",
       "3  000f6bf48.jpg        4  131973 1 132228 4 132483 6 132738 8 132993 11 ...\n",
       "4  0014fce06.jpg        3  229501 11 229741 33 229981 55 230221 77 230468..."
      ]
     },
     "execution_count": 3,
     "metadata": {},
     "output_type": "execute_result"
    }
   ],
   "source": [
    "df_train = pd.read_csv(str(data_dir + 'train.csv'))\n",
    "df_train.head()"
   ]
  },
  {
   "cell_type": "code",
   "execution_count": 4,
   "metadata": {},
   "outputs": [
    {
     "name": "stdout",
     "output_type": "stream",
     "text": [
      "Shape: (7095, 3)\n",
      "NaNs: 0\n",
      "Number of images in dir: 12568\n"
     ]
    }
   ],
   "source": [
    "shape = df_train.shape\n",
    "number_of_nans = df_train.isnull().sum().sum()\n",
    "number_of_images = len(listdir(image_dir))\n",
    "\n",
    "\n",
    "print(f\"Shape: {shape}\")\n",
    "print(f\"NaNs: {number_of_nans}\")\n",
    "print(f\"Number of images in dir: {number_of_images}\")"
   ]
  },
  {
   "cell_type": "code",
   "execution_count": 5,
   "metadata": {},
   "outputs": [
    {
     "data": {
      "text/plain": [
       "12568"
      ]
     },
     "execution_count": 5,
     "metadata": {},
     "output_type": "execute_result"
    }
   ],
   "source": [
    "len(listdir(image_dir))"
   ]
  },
  {
   "cell_type": "code",
   "execution_count": 6,
   "metadata": {},
   "outputs": [
    {
     "data": {
      "text/plain": [
       "<AxesSubplot:xlabel='ClassId', ylabel='count'>"
      ]
     },
     "execution_count": 6,
     "metadata": {},
     "output_type": "execute_result"
    },
    {
     "data": {
      "image/png": "[encoded data removed]",
      "text/plain": [
       "<Figure size 432x288 with 1 Axes>"
      ]
     },
     "metadata": {
      "needs_background": "light"
     },
     "output_type": "display_data"
    }
   ],
   "source": [
    "sns.countplot(x='ClassId', data=df_train)"
   ]
  },
  {
   "cell_type": "code",
   "execution_count": 7,
   "metadata": {},
   "outputs": [
    {
     "name": "stdout",
     "output_type": "stream",
     "text": [
      "Not defective: 43.55 %\n",
      "Defect 1: 7.14 % (12.64 %)\n",
      "Defect 2: 1.97 % (3.48 %)\n",
      "Defect 3: 40.98 % (72.59 %)\n",
      "Defect 4: 6.37 % (11.29 %)\n"
     ]
    }
   ],
   "source": [
    "n_all = len(listdir(image_dir))\n",
    "n_defects = df_train[df_train.ClassId.isin([1,2,3,4])].ClassId.count()\n",
    "n_1 = df_train[df_train.ClassId.isin([1])].ClassId.count()\n",
    "n_2 = df_train[df_train.ClassId.isin([2])].ClassId.count()\n",
    "n_3 = df_train[df_train.ClassId.isin([3])].ClassId.count()\n",
    "n_4 = df_train[df_train.ClassId.isin([4])].ClassId.count()\n",
    "print(f\"Not defective: {(n_all - n_defects) / n_all  * 100 :.2f} %\")\n",
    "print(f\"Defect 1: {n_1 / n_all * 100:.2f} % ({n_1 / n_defects * 100:.2f} %)\")\n",
    "print(f\"Defect 2: {n_2 / n_all * 100:.2f} % ({n_2 / n_defects * 100:.2f} %)\")\n",
    "print(f\"Defect 3: {n_3 / n_all * 100:.2f} % ({n_3 / n_defects * 100:.2f} %)\")\n",
    "print(f\"Defect 4: {n_4 / n_all * 100:.2f} % ({n_4 / n_defects * 100:.2f} %)\")"
   ]
  },
  {
   "cell_type": "code",
   "execution_count": 68,
   "metadata": {},
   "outputs": [
    {
     "data": {
      "text/html": [
       "<div>\n",
       "<style scoped>\n",
       "    .dataframe tbody tr th:only-of-type {\n",
       "        vertical-align: middle;\n",
       "    }\n",
       "\n",
       "    .dataframe tbody tr th {\n",
       "        vertical-align: top;\n",
       "    }\n",
       "\n",
       "    .dataframe thead th {\n",
       "        text-align: right;\n",
       "    }\n",
       "</style>\n",
       "<table border=\"1\" class=\"dataframe\">\n",
       "  <thead>\n",
       "    <tr style=\"text-align: right;\">\n",
       "      <th></th>\n",
       "      <th>ImageId</th>\n",
       "      <th>ClassId</th>\n",
       "      <th>mask_1</th>\n",
       "      <th>mask_2</th>\n",
       "      <th>mask_3</th>\n",
       "      <th>mask_4</th>\n",
       "    </tr>\n",
       "  </thead>\n",
       "  <tbody>\n",
       "    <tr>\n",
       "      <th>0</th>\n",
       "      <td>58ee62fd7.jpg</td>\n",
       "      <td>[3]</td>\n",
       "      <td>0</td>\n",
       "      <td>0</td>\n",
       "      <td>305622 43 305793 128 305964 4053 310018 255 31...</td>\n",
       "      <td>0</td>\n",
       "    </tr>\n",
       "    <tr>\n",
       "      <th>1</th>\n",
       "      <td>eeffa4c49.jpg</td>\n",
       "      <td>[1, 3]</td>\n",
       "      <td>85364 4 85614 10 85864 16 86114 22 86367 25 86...</td>\n",
       "      <td>0</td>\n",
       "      <td>135875 3 136131 9 136387 15 136643 20 136899 2...</td>\n",
       "      <td>0</td>\n",
       "    </tr>\n",
       "    <tr>\n",
       "      <th>2</th>\n",
       "      <td>0dced41aa.jpg</td>\n",
       "      <td>[0]</td>\n",
       "      <td>0</td>\n",
       "      <td>0</td>\n",
       "      <td>0</td>\n",
       "      <td>0</td>\n",
       "    </tr>\n",
       "    <tr>\n",
       "      <th>3</th>\n",
       "      <td>bd2366c49.jpg</td>\n",
       "      <td>[0]</td>\n",
       "      <td>0</td>\n",
       "      <td>0</td>\n",
       "      <td>0</td>\n",
       "      <td>0</td>\n",
       "    </tr>\n",
       "    <tr>\n",
       "      <th>4</th>\n",
       "      <td>e2bdd4236.jpg</td>\n",
       "      <td>[3]</td>\n",
       "      <td>0</td>\n",
       "      <td>0</td>\n",
       "      <td>17490 175 17746 175 18002 175 18258 175 18514 ...</td>\n",
       "      <td>0</td>\n",
       "    </tr>\n",
       "  </tbody>\n",
       "</table>\n",
       "</div>"
      ],
      "text/plain": [
       "         ImageId ClassId                                             mask_1  \\\n",
       "0  58ee62fd7.jpg     [3]                                                  0   \n",
       "1  eeffa4c49.jpg  [1, 3]  85364 4 85614 10 85864 16 86114 22 86367 25 86...   \n",
       "2  0dced41aa.jpg     [0]                                                  0   \n",
       "3  bd2366c49.jpg     [0]                                                  0   \n",
       "4  e2bdd4236.jpg     [3]                                                  0   \n",
       "\n",
       "  mask_2                                             mask_3 mask_4  \n",
       "0      0  305622 43 305793 128 305964 4053 310018 255 31...      0  \n",
       "1      0  135875 3 136131 9 136387 15 136643 20 136899 2...      0  \n",
       "2      0                                                  0      0  \n",
       "3      0                                                  0      0  \n",
       "4      0  17490 175 17746 175 18002 175 18258 175 18514 ...      0  "
      ]
     },
     "execution_count": 68,
     "metadata": {},
     "output_type": "execute_result"
    }
   ],
   "source": [
    "list_of_images = listdir(image_dir)\n",
    "df_train_complete = {'ImageId': [],\n",
    "                     'ClassId': [],\n",
    "                    'mask_1': [],\n",
    "                    'mask_2': [],\n",
    "                    'mask_3': [],\n",
    "                    'mask_4': []}\n",
    "for image_id in list_of_images:\n",
    "    df_image = df_train[df_train['ImageId'] == image_id]\n",
    "    if df_image.size == 0:\n",
    "        df_train_complete['ImageId'].append(str(image_id))\n",
    "        df_train_complete['ClassId'].append([0])\n",
    "        df_train_complete['mask_1'].append(np.nan)\n",
    "        df_train_complete['mask_2'].append(np.nan)\n",
    "        df_train_complete['mask_3'].append(np.nan)\n",
    "        df_train_complete['mask_4'].append(np.nan)\n",
    "    elif df_image.size != 0:\n",
    "        #print(df_image.to_numpy())\n",
    "        df_train_complete['ImageId'].append(df_image.to_numpy()[0][0])\n",
    "        masks = []\n",
    "        for row in df_image.to_numpy():\n",
    "            if row[1] == 1:\n",
    "                masks.append(1)\n",
    "                df_train_complete['mask_1'].append(str(row[2]))\n",
    "            if row[1] == 2:\n",
    "                masks.append(2)\n",
    "                df_train_complete['mask_2'].append(str(row[2]))\n",
    "            if row[1] == 3:\n",
    "                masks.append(3)\n",
    "                df_train_complete['mask_3'].append(str(row[2]))\n",
    "            if row[1] == 4:\n",
    "                masks.append(4)\n",
    "                df_train_complete['mask_4'].append(str(row[2]))\n",
    "                \n",
    "        df_train_complete['ClassId'].append(masks)\n",
    "        for n in [mask for mask in [1,2,3,4] if mask not in masks]:\n",
    "            if n == 1:\n",
    "                df_train_complete['mask_1'].append(np.nan)\n",
    "            if n == 2:\n",
    "                df_train_complete['mask_2'].append(np.nan)\n",
    "            if n == 3:\n",
    "                df_train_complete['mask_3'].append(np.nan)\n",
    "            if n == 4:\n",
    "                df_train_complete['mask_4'].append(np.nan)\n",
    "\n",
    "    \n",
    "df = pd.DataFrame.from_dict(df_train_complete).fillna(\"0\")\n",
    "df.head()\n"
   ]
  },
  {
   "cell_type": "markdown",
   "metadata": {},
   "source": [
    "\n",
    "---"
   ]
  },
  {
   "cell_type": "code",
   "execution_count": 69,
   "metadata": {},
   "outputs": [],
   "source": [
    "def decode_rle(encodedpixels):\n",
    "    try:\n",
    "        list_of_values = list(map(int, encodedpixels.split(' ')))\n",
    "    except AttributeError:\n",
    "        return np.nan\n",
    "    else:\n",
    "        list_of_values = list(map(int, encodedpixels.split(' ')))\n",
    "        encoded_pairs = list(zip(map(int, list_of_values[0::2]), map(int, list_of_values[1::2])))\n",
    "    return encoded_pairs \n",
    "\n",
    "def build_mask(pixels):\n",
    "    if pixels == \"0\":\n",
    "        return np.zeros(1600*256, dtype=np.uint8)\n",
    "    pairs = decode_rle(pixels)\n",
    "    mask = np.zeros(1600*256, dtype=np.uint8)\n",
    "    for pos, le in pairs:\n",
    "        mask[pos-1:pos+le-1] = 1\n",
    "    mask = mask.reshape(256, 1600, order='F')\n",
    "    return mask"
   ]
  },
  {
   "cell_type": "code",
   "execution_count": 70,
   "metadata": {},
   "outputs": [],
   "source": [
    "df_mask = df\n",
    "df_mask['mask_1'] = df_mask['mask_1'].map(build_mask)\n",
    "df_mask['mask_2'] = df_mask['mask_2'].map(build_mask)\n",
    "df_mask['mask_3'] = df_mask['mask_3'].map(build_mask)\n",
    "df_mask['mask_4'] = df_mask['mask_4'].map(build_mask)\n",
    "\n"
   ]
  },
  {
   "cell_type": "code",
   "execution_count": 101,
   "metadata": {},
   "outputs": [],
   "source": [
    "df_mask = df_mask[~df_mask['ClassId'].isin([[2,4]])]"
   ]
  },
  {
   "cell_type": "markdown",
   "metadata": {},
   "source": [
    "---\n",
    "## Stratified train-test-split\n",
    "Splits preserve the same percentage for each target class as in the complete set"
   ]
  },
  {
   "cell_type": "code",
   "execution_count": 104,
   "metadata": {},
   "outputs": [],
   "source": [
    "X_train, X_test, y_train, y_test = train_test_split(df_mask[['ImageId', 'ClassId']], df_mask[['mask_1', 'mask_2', 'mask_3', 'mask_4']], test_size = 0.33, random_state=42, stratify = df_mask['ClassId'])"
   ]
  },
  {
   "cell_type": "code",
   "execution_count": 115,
   "metadata": {},
   "outputs": [
    {
     "data": {
      "text/plain": [
       "<AxesSubplot:>"
      ]
     },
     "execution_count": 115,
     "metadata": {},
     "output_type": "execute_result"
    },
    {
     "data": {
      "image/png": "[encoded data removed]",
      "text/plain": [
       "<Figure size 432x288 with 2 Axes>"
      ]
     },
     "metadata": {
      "needs_background": "light"
     },
     "output_type": "display_data"
    }
   ],
   "source": [
    "fig, (ax1, ax2) = plt.subplots(1,2)\n",
    "X_train.ClassId.value_counts().plot(kind='bar', ax=ax1)\n",
    "X_test.ClassId.value_counts().plot(kind='bar', ax=ax2)"
   ]
  },
  {
   "cell_type": "code",
   "execution_count": null,
   "metadata": {},
   "outputs": [],
   "source": []
  }
 ],
 "metadata": {
  "kernelspec": {
   "display_name": "Python 3",
   "language": "python",
   "name": "python3"
  },
  "language_info": {
   "codemirror_mode": {
    "name": "ipython",
    "version": 3
   },
   "file_extension": ".py",
   "mimetype": "text/x-python",
   "name": "python",
   "nbconvert_exporter": "python",
   "pygments_lexer": "ipython3",
   "version": "3.8.6"
  }
 },
 "nbformat": 4,
 "nbformat_minor": 4
}
